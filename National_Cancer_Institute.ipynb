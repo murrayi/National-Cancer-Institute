{
  "nbformat": 4,
  "nbformat_minor": 0,
  "metadata": {
    "colab": {
      "name": "National Cancer Institute.ipynb",
      "provenance": [],
      "collapsed_sections": [],
      "toc_visible": true,
      "authorship_tag": "ABX9TyM96YqMKTaQqNbC7fOM2R7B",
      "include_colab_link": true
    },
    "kernelspec": {
      "name": "python3",
      "display_name": "Python 3"
    }
  },
  "cells": [
    {
      "cell_type": "markdown",
      "metadata": {
        "id": "view-in-github",
        "colab_type": "text"
      },
      "source": [
        "<a href=\"https://colab.research.google.com/github/murrayi/National-Cancer-Institute/blob/main/National_Cancer_Institute.ipynb\" target=\"_parent\"><img src=\"https://colab.research.google.com/assets/colab-badge.svg\" alt=\"Open In Colab\"/></a>"
      ]
    },
    {
      "cell_type": "markdown",
      "metadata": {
        "id": "VSl8AHRQoFpg"
      },
      "source": [
        "#National Cancer Institute"
      ]
    },
    {
      "cell_type": "markdown",
      "metadata": {
        "id": "g58Ik97JoT34"
      },
      "source": [
        "##Description"
      ]
    },
    {
      "cell_type": "markdown",
      "metadata": {
        "id": "-g3UF6Z8oXFz"
      },
      "source": [
        "Code interview question: Work with the programing language you are most familiar with. \n",
        " \n",
        "Create a card game which supports 3 of the operations below. \n",
        "1.\tShuffle cards in the deck: randomly mix the cards in the card deck, and return a whole deck of cards with a mixed order \n",
        "2.\tGet a card from the top of the deck: get one card from top of the card deck, return a card, and if there is no card left in the deck return error or exception.  \n",
        "3.\tSort cards: take a list of color as parameter and sort the card in that color order. Numbers should be in ascending order.  \n",
        "*   i.e. If the deck has a card contains with following order\n",
        "  <br>(red, 1), (green, 5), (red, 0), (yellow, 3), (green, 2) \n",
        "  <br>Sort cards([yellow, green, red]) will return the cards with following order \n",
        "  <br>(yellow, 3), (green, 0), (green, 5), (red, 0), (red, 1)  \n",
        "4.\tDetermine winners: 2 players play the game. They will draw 3 cards by taking turns. \n",
        "*   Whoever has the high score wins the game. (color point calculation, red = 3, yellow =2, green = 1) the point is calculated by color point * number in the card.   \n",
        " \n",
        "\n",
        "<br>**Testing: Create test cases to test the above operations.**\n",
        " \n",
        "<br>**Please put the code in an online repository and provide the link before the interview: github, gitlab, etc.**\n"
      ]
    },
    {
      "cell_type": "markdown",
      "metadata": {
        "id": "Yn6bkLLYoIvZ"
      },
      "source": [
        "##Code"
      ]
    },
    {
      "cell_type": "markdown",
      "metadata": {
        "id": "WU8Alnc7lsH1"
      },
      "source": [
        "###Original Version"
      ]
    },
    {
      "cell_type": "code",
      "metadata": {
        "id": "5gWDlNUSYRvD"
      },
      "source": [
        "from random import choice, randint, shuffle, seed\n",
        "from collections import deque\n",
        "from typing import List, Deque\n",
        "import pytest\n",
        "\n",
        "\n",
        "class Game:\n",
        "  points = {'red': 3, 'yellow': 2, 'green': 1}\n",
        "  def __init__(self, players: tuple, turns: int, cards: int, \n",
        "               colors: List[str]) -> None:\n",
        "    '''Initialize the Game with Players, and a\n",
        "    Deck with N cards randomly assigned a color'''\n",
        "    self.play = {p:0 for p in players}\n",
        "    self.turn = turns\n",
        "    self.deck = deque(((choice(colors), randint(0,k)) for k in range(cards)))\n",
        "  def shuffleDeck(self) -> Deque[tuple]:\n",
        "    'Shuffle the Deck of Cards and return the Deck'\n",
        "    shuffle(self.deck)\n",
        "    return self.deck\n",
        "  def drawTopCard(self) -> tuple:\n",
        "    'Draw Top Card from the Deck. If there is no card, raise an error'\n",
        "    if self.deck:\n",
        "      return self.deck.popleft()\n",
        "    raise IndexError(\"No cards!\")\n",
        "  def updateScore(self, player: str) -> None:\n",
        "    'Adds to the player score'\n",
        "    top = self.drawTopCard()\n",
        "    self.play[player]+=top[1]*self.points[top[0]]\n",
        "  def sortTheDeck(self, colors: List[str]) -> Deque[str]:\n",
        "    'Sort the Deck ordered first by color, second by value'\n",
        "    index_map = {v: i for i, v in enumerate(colors)}\n",
        "    self.deck = deque(sorted(self.deck, key=lambda x: (index_map[x[0]],x[1])))\n",
        "    return self.deck\n",
        "  def isWinner(self) -> List[str]:\n",
        "    'Determine the Winner(s) as the Player(s) with the most Points'\n",
        "    d = self.play\n",
        "    m = max(d.values())\n",
        "    return [k for k,v in d.items() if v==m]\n",
        "  def playGame(self) -> List[str]:\n",
        "    'Play the Card Game and returns the winner(s)'\n",
        "    [[self.updateScore(p) for p in self.play] for _ in range(self.turn)]\n",
        "    return self.isWinner()\n",
        "\n",
        "if __name__ == '__main__':\n",
        "  # Test the Deck\n",
        "  seed(0)\n",
        "  g = Game(('p1', 'p2'), 3, 5, ('red','green','yellow'))\n",
        "  g.deck = deque([('red', 1), ('green', 5), ('red', 0), \n",
        "                  ('yellow', 3), ('green', 2)])\n",
        "  assert g.shuffleDeck() == \\\n",
        "         deque([('yellow', 3), ('red', 1), ('red', 0), \n",
        "                ('green', 5), ('green', 2)])\n",
        "  colors = ['yellow', 'green', 'red']\n",
        "  assert g.sortTheDeck(colors) == \\\n",
        "  deque([('yellow', 3), ('green', 2), ('green', 5), \n",
        "                ('red', 0), ('red', 1)])\n",
        "  assert g.drawTopCard() == ('yellow', 3)\n",
        "  assert g.deck == deque([('green', 2), ('green', 5), \n",
        "                          ('red', 0), ('red', 1)])\n",
        "  # Test the Game (insufficient cards)\n",
        "  with pytest.raises(IndexError, match=\"No cards!\"):\n",
        "    g.playGame()\n",
        "\n",
        "  # Test the Game (sufficient cards)\n",
        "  def f() -> List[str]:\n",
        "        return Game(('p1', 'p2'), 3, 10, ('red','green','yellow'))\n",
        "\n",
        "  def seedGames(n: int) -> None:\n",
        "    'Displays the Outcomes of n games with seed'\n",
        "    for i in range(n):\n",
        "      seed(i)\n",
        "      g = f()\n",
        "      print(i,g.play,g.playGame())\n",
        "  \n",
        "  # seedGames(25)\n",
        "  # seeded Games\n",
        "  # 20 {'p1': 5, 'p2': 0} ['p1']\n",
        "  # 21 {'p1': 6, 'p2': 15} ['p2']\n",
        "  # 22 {'p1': 9, 'p2': 9} ['p1', 'p2']\n",
        "\n",
        "  tests = ((20, ['p1']), (21, ['p2']), (22, ['p1', 'p2']))\n",
        "  for t in tests:\n",
        "    i, o = t\n",
        "    seed(i)\n",
        "    assert f().playGame()==o"
      ],
      "execution_count": 12,
      "outputs": []
    },
    {
      "cell_type": "markdown",
      "metadata": {
        "id": "mOa4tYgsSFbW"
      },
      "source": [
        "###PEP8 Compliant"
      ]
    },
    {
      "cell_type": "markdown",
      "metadata": {
        "id": "JVeJDlEek3mI"
      },
      "source": [
        "http://pep8online.com/"
      ]
    },
    {
      "cell_type": "code",
      "metadata": {
        "id": "evhWI6UFSGbi",
        "outputId": "b33deca6-5674-4c25-f025-9b21724f5d8d",
        "colab": {
          "base_uri": "https://localhost:8080/",
          "height": 35
        }
      },
      "source": [
        "%%writefile main.py\n",
        "from random import choice, randint, shuffle, seed\n",
        "from collections import deque\n",
        "from typing import List, Deque\n",
        "import pytest\n",
        "\n",
        "\n",
        "class Game:\n",
        "    points = {'red': 3, 'yellow': 2, 'green': 1}\n",
        "\n",
        "    def __init__(self, players: tuple, turns: int, cards: int,\n",
        "                 colors: List[str]) -> None:\n",
        "        '''Initialize the Game with Players, and a\n",
        "        Deck with N cards randomly assigned a color'''\n",
        "        self.play = {p: 0 for p in players}\n",
        "        self.turn = turns\n",
        "        self.deck = deque(((choice(colors), randint(0, k)) for\n",
        "                           k in range(cards)))\n",
        "\n",
        "    def shuffleDeck(self) -> Deque[tuple]:\n",
        "        'Shuffle the Deck of Cards and return the Deck'\n",
        "        shuffle(self.deck)\n",
        "        return self.deck\n",
        "\n",
        "    def drawTopCard(self) -> tuple:\n",
        "        'Draw Top Card from the Deck. If there is no card, raise an error'\n",
        "        if self.deck:\n",
        "            return self.deck.popleft()\n",
        "        raise IndexError(\"No cards!\")\n",
        "\n",
        "    def updateScore(self, player: str) -> None:\n",
        "        'Adds to the player score'\n",
        "        top = self.drawTopCard()\n",
        "        self.play[player] += top[1]*self.points[top[0]]\n",
        "\n",
        "    def sortTheDeck(self, colors: List[str]) -> Deque[str]:\n",
        "        'Sort the Deck ordered first by color, second by value'\n",
        "        index_map = {v: i for i, v in enumerate(colors)}\n",
        "        self.deck = deque(sorted(self.deck,\n",
        "                                 key=lambda x: (index_map[x[0]], x[1])))\n",
        "        return self.deck\n",
        "\n",
        "    def isWinner(self) -> List[str]:\n",
        "        'Determine the Winner(s) as the Player(s) with the most Points'\n",
        "        d = self.play\n",
        "        m = max(d.values())\n",
        "        return [k for k, v in d.items() if v == m]\n",
        "\n",
        "    def playGame(self) -> List[str]:\n",
        "        'Play the Card Game and returns the winner(s)'\n",
        "        [[self.updateScore(p) for p in self.play] for _ in range(self.turn)]\n",
        "        return self.isWinner()\n",
        "\n",
        "if __name__ == '__main__':\n",
        "    # Test the Deck\n",
        "    seed(0)\n",
        "    g = Game(('p1', 'p2'), 3, 5, ('red', 'green', 'yellow'))\n",
        "    g.deck = deque([('red', 1), ('green', 5), ('red', 0),\n",
        "                    ('yellow', 3), ('green', 2)])\n",
        "    assert g.shuffleDeck() == deque([('yellow', 3), ('red', 1),\n",
        "                                     ('red', 0), ('green', 5),\n",
        "                                     ('green', 2)])\n",
        "    colors = ['yellow', 'green', 'red']\n",
        "    assert g.sortTheDeck(colors) == deque([('yellow', 3), ('green', 2),\n",
        "                                           ('green', 5), ('red', 0),\n",
        "                                           ('red', 1)])\n",
        "    assert g.drawTopCard() == ('yellow', 3)\n",
        "    assert g.deck == deque([('green', 2), ('green', 5),\n",
        "                            ('red', 0), ('red', 1)])\n",
        "    # Test the Game (insufficient cards)\n",
        "    with pytest.raises(IndexError, match=\"No cards!\"):\n",
        "        g.playGame()\n",
        "\n",
        "    # Test the Game (sufficient cards)\n",
        "    def f() -> List[str]:\n",
        "        'Sample Game with 2 Players, 3 turns, 10 cards of 3 colors'\n",
        "        return Game(('p1', 'p2'), 3, 10, ('red', 'green', 'yellow'))\n",
        "\n",
        "    def seedGames(n: int) -> None:\n",
        "        'Displays the Outcomes of n games with seed'\n",
        "        for i in range(n):\n",
        "            seed(i)\n",
        "            g = f()\n",
        "            print(i, g.play, g.playGame())\n",
        "\n",
        "    # seedGames(25)\n",
        "    # seeded Games\n",
        "    # 20 {'p1': 5, 'p2': 0} ['p1']\n",
        "    # 21 {'p1': 6, 'p2': 15} ['p2']\n",
        "    # 22 {'p1': 9, 'p2': 9} ['p1', 'p2']\n",
        "\n",
        "    tests = ((20, ['p1']), (21, ['p2']), (22, ['p1', 'p2']))\n",
        "    for t in tests:\n",
        "        i, o = t\n",
        "        seed(i)\n",
        "        assert f().playGame() == o\n"
      ],
      "execution_count": 5,
      "outputs": [
        {
          "output_type": "stream",
          "text": [
            "Overwriting main.py\n"
          ],
          "name": "stdout"
        }
      ]
    },
    {
      "cell_type": "markdown",
      "metadata": {
        "id": "POuCMwokk-kp"
      },
      "source": [
        "###PEP8+Pylint"
      ]
    },
    {
      "cell_type": "code",
      "metadata": {
        "id": "k7nGqrMGj6HZ",
        "outputId": "0b681ad9-91c4-44c8-b56a-79ad3630c625",
        "colab": {
          "base_uri": "https://localhost:8080/",
          "height": 35
        }
      },
      "source": [
        "%%writefile main.py\n",
        "\"\"\"This script plays a Card Game between two players.\n",
        "Additionally, it adheres to both PEP8 and Pylint guidelines.\"\"\"\n",
        "from random import choice, randint, shuffle, seed\n",
        "from collections import deque\n",
        "from typing import List, Deque\n",
        "import pytest\n",
        "\n",
        "\n",
        "class Game:\n",
        "    '''The Operations for Playing the Game'''\n",
        "    points = {'red': 3, 'yellow': 2, 'green': 1}\n",
        "\n",
        "    def __init__(self, players: tuple, turns: int, cards: int,\n",
        "                 colors: List[str]) -> None:\n",
        "        '''Initialize the Game with Players, and a\n",
        "        Deck with N cards randomly assigned a color'''\n",
        "        self.play = {p: 0 for p in players}\n",
        "        self.turn = turns\n",
        "        self.deck = deque(((choice(colors), randint(0, k)) for\n",
        "                           k in range(cards)))\n",
        "\n",
        "    def shuffle_deck(self) -> Deque[tuple]:\n",
        "        'Shuffle the Deck of Cards and return the Deck'\n",
        "        shuffle(self.deck)\n",
        "        return self.deck\n",
        "\n",
        "    def draw_top_card(self) -> tuple:\n",
        "        'Draw Top Card from the Deck. If there is no card, raise an error'\n",
        "        if self.deck:\n",
        "            return self.deck.popleft()\n",
        "        raise IndexError(\"No cards!\")\n",
        "\n",
        "    def update_score(self, player: str) -> None:\n",
        "        'Adds to the player score'\n",
        "        top = self.draw_top_card()\n",
        "        self.play[player] += top[1]*self.points[top[0]]\n",
        "\n",
        "    def sort_the_deck(self, colors: List[str]) -> Deque[str]:\n",
        "        'Sort the Deck ordered first by color, second by value'\n",
        "        index_map = {v: i for i, v in enumerate(colors)}\n",
        "        self.deck = deque(sorted(self.deck,\n",
        "                                 key=lambda x: (index_map[x[0]], x[1])))\n",
        "        return self.deck\n",
        "\n",
        "    def is_winner(self) -> List[str]:\n",
        "        'Determine the Winner(s) as the Player(s) with the most Points'\n",
        "        players = self.play\n",
        "        win = max(players.values())\n",
        "        return [k for k, v in players.items() if v == win]\n",
        "\n",
        "    def play_game(self) -> List[str]:\n",
        "        'Play the Card Game and returns the winner(s)'\n",
        "        for _ in range(self.turn):\n",
        "            for player in self.play:\n",
        "                self.update_score(player)\n",
        "        return self.is_winner()\n",
        "\n",
        "if __name__ == '__main__':\n",
        "    # Test the Deck\n",
        "    seed(0)\n",
        "    g = Game(('p1', 'p2'), 3, 5, ('red', 'green', 'yellow'))\n",
        "    g.deck = deque([('red', 1), ('green', 5), ('red', 0),\n",
        "                    ('yellow', 3), ('green', 2)])\n",
        "    assert g.shuffle_deck() == deque([('yellow', 3), ('red', 1),\n",
        "                                     ('red', 0), ('green', 5),\n",
        "                                     ('green', 2)])\n",
        "    l = ['yellow', 'green', 'red']\n",
        "    assert g.sort_the_deck(l) == deque([('yellow', 3), ('green', 2),\n",
        "                                        ('green', 5), ('red', 0),\n",
        "                                        ('red', 1)])\n",
        "    assert g.draw_top_card() == ('yellow', 3)\n",
        "    assert g.deck == deque([('green', 2), ('green', 5),\n",
        "                            ('red', 0), ('red', 1)])\n",
        "    # Test the Game (insufficient cards)\n",
        "    with pytest.raises(IndexError, match=\"No cards!\"):\n",
        "        g.play_game()\n",
        "\n",
        "    # Test the Game (sufficient cards)\n",
        "    def fun() -> List[str]:\n",
        "        'Sample Game with 2 Players, 3 turns, 10 cards of 3 colors'\n",
        "        return Game(('p1', 'p2'), 3, 10, ('red', 'green', 'yellow'))\n",
        "\n",
        "    def seed_games(games: int) -> None:\n",
        "        'Displays the Outcomes of n games with seed'\n",
        "        for game in range(games):\n",
        "            seed(game)\n",
        "            g_g = fun()\n",
        "            print(i, g_g.play, g_g.play_game())\n",
        "\n",
        "    # seed_games(25)\n",
        "    # seeded Games\n",
        "    # 20 {'p1': 5, 'p2': 0} ['p1']\n",
        "    # 21 {'p1': 6, 'p2': 15} ['p2']\n",
        "    # 22 {'p1': 9, 'p2': 9} ['p1', 'p2']\n",
        "\n",
        "    tests = ((20, ['p1']), (21, ['p2']), (22, ['p1', 'p2']))\n",
        "    for t in tests:\n",
        "        i, o = t\n",
        "        seed(i)\n",
        "        assert fun().play_game() == o\n",
        "\n"
      ],
      "execution_count": 14,
      "outputs": [
        {
          "output_type": "stream",
          "text": [
            "Overwriting main.py\n"
          ],
          "name": "stdout"
        }
      ]
    },
    {
      "cell_type": "code",
      "metadata": {
        "id": "9hYyhpUtURqD",
        "outputId": "f349f517-b992-46a0-9529-a44ab38e753c",
        "colab": {
          "base_uri": "https://localhost:8080/",
          "height": 443
        }
      },
      "source": [
        "!pip install pylint"
      ],
      "execution_count": 3,
      "outputs": [
        {
          "output_type": "stream",
          "text": [
            "Collecting pylint\n",
            "\u001b[?25l  Downloading https://files.pythonhosted.org/packages/fb/13/519c1264a134beab2be4bac8dd3e64948980a5ca7833b31cf0255b21f20a/pylint-2.6.0-py3-none-any.whl (325kB)\n",
            "\u001b[K     |████████████████████████████████| 327kB 2.9MB/s \n",
            "\u001b[?25hCollecting isort<6,>=4.2.5\n",
            "\u001b[?25l  Downloading https://files.pythonhosted.org/packages/ee/e3/75cacbe65a236934860880547fc612e8e3856b5cc3844a8beddae05e7b60/isort-5.6.4-py3-none-any.whl (98kB)\n",
            "\u001b[K     |████████████████████████████████| 102kB 6.4MB/s \n",
            "\u001b[?25hRequirement already satisfied: toml>=0.7.1 in /usr/local/lib/python3.6/dist-packages (from pylint) (0.10.1)\n",
            "Collecting mccabe<0.7,>=0.6\n",
            "  Downloading https://files.pythonhosted.org/packages/87/89/479dc97e18549e21354893e4ee4ef36db1d237534982482c3681ee6e7b57/mccabe-0.6.1-py2.py3-none-any.whl\n",
            "Collecting astroid<=2.5,>=2.4.0\n",
            "\u001b[?25l  Downloading https://files.pythonhosted.org/packages/24/a8/5133f51967fb21e46ee50831c3f5dda49e976b7f915408d670b1603d41d6/astroid-2.4.2-py3-none-any.whl (213kB)\n",
            "\u001b[K     |████████████████████████████████| 215kB 7.6MB/s \n",
            "\u001b[?25hCollecting typed-ast<1.5,>=1.4.0; implementation_name == \"cpython\" and python_version < \"3.8\"\n",
            "\u001b[?25l  Downloading https://files.pythonhosted.org/packages/90/ed/5459080d95eb87a02fe860d447197be63b6e2b5e9ff73c2b0a85622994f4/typed_ast-1.4.1-cp36-cp36m-manylinux1_x86_64.whl (737kB)\n",
            "\u001b[K     |████████████████████████████████| 747kB 12.0MB/s \n",
            "\u001b[?25hCollecting lazy-object-proxy==1.4.*\n",
            "\u001b[?25l  Downloading https://files.pythonhosted.org/packages/0b/dd/b1e3407e9e6913cf178e506cd0dee818e58694d9a5cd1984e3f6a8b9a10f/lazy_object_proxy-1.4.3-cp36-cp36m-manylinux1_x86_64.whl (55kB)\n",
            "\u001b[K     |████████████████████████████████| 61kB 6.7MB/s \n",
            "\u001b[?25hRequirement already satisfied: six~=1.12 in /usr/local/lib/python3.6/dist-packages (from astroid<=2.5,>=2.4.0->pylint) (1.15.0)\n",
            "Requirement already satisfied: wrapt~=1.11 in /usr/local/lib/python3.6/dist-packages (from astroid<=2.5,>=2.4.0->pylint) (1.12.1)\n",
            "Installing collected packages: isort, mccabe, typed-ast, lazy-object-proxy, astroid, pylint\n",
            "Successfully installed astroid-2.4.2 isort-5.6.4 lazy-object-proxy-1.4.3 mccabe-0.6.1 pylint-2.6.0 typed-ast-1.4.1\n"
          ],
          "name": "stdout"
        }
      ]
    },
    {
      "cell_type": "code",
      "metadata": {
        "id": "HswPo6KgU6ol",
        "outputId": "db5fa351-e257-4e27-a0d0-0b9db9201be4",
        "colab": {
          "base_uri": "https://localhost:8080/",
          "height": 91
        }
      },
      "source": [
        "from subprocess import Popen, PIPE\n",
        "def mypylint():\n",
        "  'Outputs Pylint Results to Console'\n",
        "  out, _ = Popen(['pylint','main.py'], stdout=PIPE).communicate()\n",
        "  out = out.splitlines()\n",
        "  for i in out: print(i)\n",
        "mypylint()"
      ],
      "execution_count": 15,
      "outputs": [
        {
          "output_type": "stream",
          "text": [
            "b''\n",
            "b'-------------------------------------------------------------------'\n",
            "b'Your code has been rated at 10.00/10 (previous run: 9.11/10, +0.89)'\n",
            "b''\n"
          ],
          "name": "stdout"
        }
      ]
    }
  ]
}